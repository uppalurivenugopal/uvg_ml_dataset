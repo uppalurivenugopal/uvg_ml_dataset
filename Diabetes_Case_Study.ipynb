{
  "nbformat": 4,
  "nbformat_minor": 0,
  "metadata": {
    "colab": {
      "name": "Diabetes Case Study.ipynb",
      "provenance": [],
      "collapsed_sections": [],
      "toc_visible": true,
      "authorship_tag": "ABX9TyN/nZgEv7RblS2GxSiks6yT",
      "include_colab_link": true
    },
    "kernelspec": {
      "name": "python3",
      "display_name": "Python 3"
    },
    "language_info": {
      "name": "python"
    }
  },
  "cells": [
    {
      "cell_type": "markdown",
      "metadata": {
        "id": "view-in-github",
        "colab_type": "text"
      },
      "source": [
        "<a href=\"https://colab.research.google.com/github/uppalurivenugopal/uvg_ml_dataset/blob/main/Diabetes_Case_Study.ipynb\" target=\"_parent\"><img src=\"https://colab.research.google.com/assets/colab-badge.svg\" alt=\"Open In Colab\"/></a>"
      ]
    },
    {
      "cell_type": "code",
      "execution_count": 1,
      "metadata": {
        "id": "hdjZcPXRnVFC"
      },
      "outputs": [],
      "source": [
        "import numpy as np\n",
        "import pandas as pd"
      ]
    },
    {
      "cell_type": "markdown",
      "source": [
        "#Objective\n"
      ],
      "metadata": {
        "id": "gJ2fhEfx6Vrs"
      }
    },
    {
      "cell_type": "code",
      "source": [
        "# To diagnostically predict whether or not a women patient has diabetes, based on certain diagnostic measurements (Pregnancies, Glucose, BP, Skin Thickness, Insulin etc.)"
      ],
      "metadata": {
        "id": "SdxgIrLA6b58"
      },
      "execution_count": 2,
      "outputs": []
    },
    {
      "cell_type": "markdown",
      "source": [
        "#Data Importing"
      ],
      "metadata": {
        "id": "l0OeCeaI6bTs"
      }
    },
    {
      "cell_type": "code",
      "source": [
        "diabetes=pd.read_csv('https://raw.githubusercontent.com/uppalurivenugopal/uvg_ml_dataset/main/diabetes.csv')"
      ],
      "metadata": {
        "id": "Si2xm4gW7GjU"
      },
      "execution_count": 3,
      "outputs": []
    },
    {
      "cell_type": "code",
      "source": [
        "diabetes.info()"
      ],
      "metadata": {
        "colab": {
          "base_uri": "https://localhost:8080/"
        },
        "id": "w5CIQodv8mOl",
        "outputId": "999b44c3-582a-4368-de38-d5f8d8d8d721"
      },
      "execution_count": 4,
      "outputs": [
        {
          "output_type": "stream",
          "name": "stdout",
          "text": [
            "<class 'pandas.core.frame.DataFrame'>\n",
            "RangeIndex: 768 entries, 0 to 767\n",
            "Data columns (total 9 columns):\n",
            " #   Column                    Non-Null Count  Dtype  \n",
            "---  ------                    --------------  -----  \n",
            " 0   Pregnancies               768 non-null    int64  \n",
            " 1   Glucose                   768 non-null    int64  \n",
            " 2   BloodPressure             768 non-null    int64  \n",
            " 3   SkinThickness             768 non-null    int64  \n",
            " 4   Insulin                   768 non-null    int64  \n",
            " 5   BMI                       768 non-null    float64\n",
            " 6   DiabetesPedigreeFunction  768 non-null    float64\n",
            " 7   Age                       768 non-null    int64  \n",
            " 8   Outcome                   768 non-null    int64  \n",
            "dtypes: float64(2), int64(7)\n",
            "memory usage: 54.1 KB\n"
          ]
        }
      ]
    },
    {
      "cell_type": "code",
      "source": [
        "# Metadata - \n",
        "# Pregnancies - Number of times pregnant\n",
        "# Glucose - Plasma glucose concentration a 2 hours in an oral glucose tolerance test\n",
        "# BP - Diastolic blood pressure (mm Hg)\n",
        "# Skin Thickness - Triceps skin fold thickness (mm)\n",
        "# Insulin - 2-Hour serum insulin (mu U/ml)\n",
        "# BMI - Body mass index (weight in kg/(height in m)^2)\n",
        "# Diabetes pedigree function\n",
        "# Age - \n",
        "# Outcome - Class variable (0 or 1) 268 of 768 are 1, the others are 0"
      ],
      "metadata": {
        "id": "hhCi5mcC8rgJ"
      },
      "execution_count": null,
      "outputs": []
    },
    {
      "cell_type": "markdown",
      "source": [
        "# Exploring Numerical Data and checking for outliers"
      ],
      "metadata": {
        "id": "6J0a_EYI8uyb"
      }
    },
    {
      "cell_type": "code",
      "source": [
        "diabetes['Pregnancies'].quantile([0,0.1,0.2,0.3,0.4,0.5,0.6,0.7,0.8,0.9,0.91,0.92,0.93,0.94,0.95,0.96,0.97,.98,0.99,1])\n",
        "#percentile distribution looks fine. Only one outlier at 17"
      ],
      "metadata": {
        "colab": {
          "base_uri": "https://localhost:8080/"
        },
        "id": "M1hAGLk18wJS",
        "outputId": "554e17a7-2fed-4bb5-c2ba-0b5bb7d2e159"
      },
      "execution_count": 5,
      "outputs": [
        {
          "output_type": "execute_result",
          "data": {
            "text/plain": [
              "0.00     0.0\n",
              "0.10     0.0\n",
              "0.20     1.0\n",
              "0.30     1.0\n",
              "0.40     2.0\n",
              "0.50     3.0\n",
              "0.60     4.0\n",
              "0.70     5.0\n",
              "0.80     7.0\n",
              "0.90     9.0\n",
              "0.91     9.0\n",
              "0.92     9.0\n",
              "0.93    10.0\n",
              "0.94    10.0\n",
              "0.95    10.0\n",
              "0.96    11.0\n",
              "0.97    11.0\n",
              "0.98    12.0\n",
              "0.99    13.0\n",
              "1.00    17.0\n",
              "Name: Pregnancies, dtype: float64"
            ]
          },
          "metadata": {},
          "execution_count": 5
        }
      ]
    },
    {
      "cell_type": "code",
      "source": [
        "import matplotlib.pyplot as plt\n",
        "diabetes.boxplot(by ='Outcome', column =['Pregnancies'], grid = False)\n",
        "#Median number of pregancies is higher among people with Diabetes. Chances of diabetes are higher among women with number of pregnancies greater than12.5"
      ],
      "metadata": {
        "colab": {
          "base_uri": "https://localhost:8080/",
          "height": 373
        },
        "id": "0sIWdAnu8_UM",
        "outputId": "c8a8d2af-b658-45a2-c4ef-ea39314a2730"
      },
      "execution_count": 6,
      "outputs": [
        {
          "output_type": "stream",
          "name": "stderr",
          "text": [
            "/usr/local/lib/python3.7/dist-packages/matplotlib/cbook/__init__.py:1376: VisibleDeprecationWarning: Creating an ndarray from ragged nested sequences (which is a list-or-tuple of lists-or-tuples-or ndarrays with different lengths or shapes) is deprecated. If you meant to do this, you must specify 'dtype=object' when creating the ndarray.\n",
            "  X = np.atleast_1d(X.T if isinstance(X, np.ndarray) else np.asarray(X))\n"
          ]
        },
        {
          "output_type": "execute_result",
          "data": {
            "text/plain": [
              "<matplotlib.axes._subplots.AxesSubplot at 0x7fc29e0de810>"
            ]
          },
          "metadata": {},
          "execution_count": 6
        },
        {
          "output_type": "display_data",
          "data": {
            "text/plain": [
              "<Figure size 432x288 with 1 Axes>"
            ],
            "image/png": "[encoded data removed]"
          },
          "metadata": {
            "needs_background": "light"
          }
        }
      ]
    },
    {
      "cell_type": "code",
      "source": [
        "diabetes['Glucose'].quantile([0,0.1,0.2,0.3,0.4,0.5,0.6,0.7,0.8,0.9,0.91,0.92,0.93,0.94,0.95,0.96,0.97,.98,0.99,1])\n",
        "#percentile distribution looks fine"
      ],
      "metadata": {
        "colab": {
          "base_uri": "https://localhost:8080/"
        },
        "id": "laRHp-hL9J4c",
        "outputId": "c4d8ead1-6a06-4bf4-c609-3e290a1a2334"
      },
      "execution_count": 7,
      "outputs": [
        {
          "output_type": "execute_result",
          "data": {
            "text/plain": [
              "0.00      0.00\n",
              "0.10     85.00\n",
              "0.20     95.00\n",
              "0.30    102.00\n",
              "0.40    109.00\n",
              "0.50    117.00\n",
              "0.60    125.00\n",
              "0.70    134.00\n",
              "0.80    147.00\n",
              "0.90    167.00\n",
              "0.91    170.00\n",
              "0.92    173.00\n",
              "0.93    176.00\n",
              "0.94    179.00\n",
              "0.95    181.00\n",
              "0.96    184.00\n",
              "0.97    187.99\n",
              "0.98    192.32\n",
              "0.99    196.00\n",
              "1.00    199.00\n",
              "Name: Glucose, dtype: float64"
            ]
          },
          "metadata": {},
          "execution_count": 7
        }
      ]
    },
    {
      "cell_type": "code",
      "source": [
        "diabetes.boxplot(by ='Outcome', column =['Glucose'], grid = False)\n",
        "#Median glucose levels of people with Diabetes is much higher (~150) than people without diabetes (~100)"
      ],
      "metadata": {
        "colab": {
          "base_uri": "https://localhost:8080/",
          "height": 373
        },
        "id": "vVu_Ye7n9TVc",
        "outputId": "dd18b579-df84-4f75-fc9b-c6d40e623375"
      },
      "execution_count": 8,
      "outputs": [
        {
          "output_type": "stream",
          "name": "stderr",
          "text": [
            "/usr/local/lib/python3.7/dist-packages/matplotlib/cbook/__init__.py:1376: VisibleDeprecationWarning: Creating an ndarray from ragged nested sequences (which is a list-or-tuple of lists-or-tuples-or ndarrays with different lengths or shapes) is deprecated. If you meant to do this, you must specify 'dtype=object' when creating the ndarray.\n",
            "  X = np.atleast_1d(X.T if isinstance(X, np.ndarray) else np.asarray(X))\n"
          ]
        },
        {
          "output_type": "execute_result",
          "data": {
            "text/plain": [
              "<matplotlib.axes._subplots.AxesSubplot at 0x7fc29f016210>"
            ]
          },
          "metadata": {},
          "execution_count": 8
        },
        {
          "output_type": "display_data",
          "data": {
            "text/plain": [
              "<Figure size 432x288 with 1 Axes>"
            ],
            "image/png": "[encoded data removed]"
          },
          "metadata": {
            "needs_background": "light"
          }
        }
      ]
    },
    {
      "cell_type": "code",
      "source": [
        "diabetes['BloodPressure'].quantile([0,0.1,0.2,0.3,0.4,0.5,0.6,0.7,0.8,0.9,0.91,0.92,0.93,0.94,0.95,0.96,0.97,.98,0.99,1])\n",
        "#Percentile distribution appears to be fine - except for one outlier at 100th percentile"
      ],
      "metadata": {
        "colab": {
          "base_uri": "https://localhost:8080/"
        },
        "id": "n5aFPyya9Yic",
        "outputId": "43594ab0-af39-402f-cbde-3265e1e59668"
      },
      "execution_count": 9,
      "outputs": [
        {
          "output_type": "execute_result",
          "data": {
            "text/plain": [
              "0.00      0.00\n",
              "0.10     54.00\n",
              "0.20     60.00\n",
              "0.30     64.00\n",
              "0.40     68.00\n",
              "0.50     72.00\n",
              "0.60     74.00\n",
              "0.70     78.00\n",
              "0.80     82.00\n",
              "0.90     88.00\n",
              "0.91     88.00\n",
              "0.92     88.00\n",
              "0.93     90.00\n",
              "0.94     90.00\n",
              "0.95     90.00\n",
              "0.96     92.00\n",
              "0.97     94.99\n",
              "0.98     99.32\n",
              "0.99    106.00\n",
              "1.00    122.00\n",
              "Name: BloodPressure, dtype: float64"
            ]
          },
          "metadata": {},
          "execution_count": 9
        }
      ]
    },
    {
      "cell_type": "code",
      "source": [
        "diabetes.boxplot(by ='Outcome', column =['BloodPressure'], grid = False)\n",
        "#No significant difference in BP data between people with diabates and without diabetes"
      ],
      "metadata": {
        "colab": {
          "base_uri": "https://localhost:8080/",
          "height": 373
        },
        "id": "p39CI0Xg9fAU",
        "outputId": "83cb018c-b8a8-454d-f328-a354c74864d3"
      },
      "execution_count": 10,
      "outputs": [
        {
          "output_type": "stream",
          "name": "stderr",
          "text": [
            "/usr/local/lib/python3.7/dist-packages/matplotlib/cbook/__init__.py:1376: VisibleDeprecationWarning: Creating an ndarray from ragged nested sequences (which is a list-or-tuple of lists-or-tuples-or ndarrays with different lengths or shapes) is deprecated. If you meant to do this, you must specify 'dtype=object' when creating the ndarray.\n",
            "  X = np.atleast_1d(X.T if isinstance(X, np.ndarray) else np.asarray(X))\n"
          ]
        },
        {
          "output_type": "execute_result",
          "data": {
            "text/plain": [
              "<matplotlib.axes._subplots.AxesSubplot at 0x7fc29da73750>"
            ]
          },
          "metadata": {},
          "execution_count": 10
        },
        {
          "output_type": "display_data",
          "data": {
            "text/plain": [
              "<Figure size 432x288 with 1 Axes>"
            ],
            "image/png": "[encoded data removed]"
          },
          "metadata": {
            "needs_background": "light"
          }
        }
      ]
    },
    {
      "cell_type": "code",
      "source": [
        "diabetes['SkinThickness'].quantile([0,0.1,0.2,0.3,0.4,0.5,0.6,0.7,0.8,0.9,0.91,0.92,0.93,0.94,0.95,0.96,0.97,.98,0.99,1])\n",
        "#Percentile distribution appears to be fine - except for one outlier at 100th percentile"
      ],
      "metadata": {
        "colab": {
          "base_uri": "https://localhost:8080/"
        },
        "id": "pHTBtuys9ils",
        "outputId": "f50b454e-f129-4ef5-e6eb-3ac2a592bf70"
      },
      "execution_count": 11,
      "outputs": [
        {
          "output_type": "execute_result",
          "data": {
            "text/plain": [
              "0.00     0.00\n",
              "0.10     0.00\n",
              "0.20     0.00\n",
              "0.30     8.20\n",
              "0.40    18.00\n",
              "0.50    23.00\n",
              "0.60    27.00\n",
              "0.70    31.00\n",
              "0.80    35.00\n",
              "0.90    40.00\n",
              "0.91    41.00\n",
              "0.92    41.00\n",
              "0.93    42.00\n",
              "0.94    43.00\n",
              "0.95    44.00\n",
              "0.96    45.32\n",
              "0.97    46.00\n",
              "0.98    48.00\n",
              "0.99    51.33\n",
              "1.00    99.00\n",
              "Name: SkinThickness, dtype: float64"
            ]
          },
          "metadata": {},
          "execution_count": 11
        }
      ]
    },
    {
      "cell_type": "code",
      "source": [
        "diabetes.boxplot(by ='Outcome', column =['SkinThickness'], grid = False)\n",
        "#No significant difference in Skin Thickness data between people with diabates and without diabetes"
      ],
      "metadata": {
        "colab": {
          "base_uri": "https://localhost:8080/",
          "height": 373
        },
        "id": "bdECmFUO9q4-",
        "outputId": "9fd518f3-6a13-4ac1-b4d9-2f21d197f442"
      },
      "execution_count": 12,
      "outputs": [
        {
          "output_type": "stream",
          "name": "stderr",
          "text": [
            "/usr/local/lib/python3.7/dist-packages/matplotlib/cbook/__init__.py:1376: VisibleDeprecationWarning: Creating an ndarray from ragged nested sequences (which is a list-or-tuple of lists-or-tuples-or ndarrays with different lengths or shapes) is deprecated. If you meant to do this, you must specify 'dtype=object' when creating the ndarray.\n",
            "  X = np.atleast_1d(X.T if isinstance(X, np.ndarray) else np.asarray(X))\n"
          ]
        },
        {
          "output_type": "execute_result",
          "data": {
            "text/plain": [
              "<matplotlib.axes._subplots.AxesSubplot at 0x7fc29d9fb5d0>"
            ]
          },
          "metadata": {},
          "execution_count": 12
        },
        {
          "output_type": "display_data",
          "data": {
            "text/plain": [
              "<Figure size 432x288 with 1 Axes>"
            ],
            "image/png": "[encoded data removed]"
          },
          "metadata": {
            "needs_background": "light"
          }
        }
      ]
    },
    {
      "cell_type": "code",
      "source": [
        "diabetes['Insulin'].quantile([0,0.1,0.2,0.3,0.4,0.5,0.6,0.7,0.8,0.9,0.91,0.92,0.93,0.94,0.95,0.96,0.97,.98,0.99,1])\n",
        "#Percentile distribution appears to be fine - except for one outlier at 100th percentile"
      ],
      "metadata": {
        "colab": {
          "base_uri": "https://localhost:8080/"
        },
        "id": "4fmEjjMT9yLu",
        "outputId": "2e688d04-2c1c-468e-8528-198d38994474"
      },
      "execution_count": 13,
      "outputs": [
        {
          "output_type": "execute_result",
          "data": {
            "text/plain": [
              "0.00      0.00\n",
              "0.10      0.00\n",
              "0.20      0.00\n",
              "0.30      0.00\n",
              "0.40      0.00\n",
              "0.50     30.50\n",
              "0.60     72.20\n",
              "0.70    106.00\n",
              "0.80    150.00\n",
              "0.90    210.00\n",
              "0.91    224.85\n",
              "0.92    236.28\n",
              "0.93    260.17\n",
              "0.94    276.96\n",
              "0.95    293.00\n",
              "0.96    325.00\n",
              "0.97    369.90\n",
              "0.98    470.94\n",
              "0.99    519.90\n",
              "1.00    846.00\n",
              "Name: Insulin, dtype: float64"
            ]
          },
          "metadata": {},
          "execution_count": 13
        }
      ]
    },
    {
      "cell_type": "code",
      "source": [
        "diabetes.boxplot(by ='Outcome', column =['Insulin'], grid = False)\n",
        "#Higher chances if diabetes if Insulin is above 300"
      ],
      "metadata": {
        "colab": {
          "base_uri": "https://localhost:8080/",
          "height": 373
        },
        "id": "1FbMDW5G96xr",
        "outputId": "5fb54b59-292f-464b-f974-dd07dcc6fdc6"
      },
      "execution_count": 14,
      "outputs": [
        {
          "output_type": "stream",
          "name": "stderr",
          "text": [
            "/usr/local/lib/python3.7/dist-packages/matplotlib/cbook/__init__.py:1376: VisibleDeprecationWarning: Creating an ndarray from ragged nested sequences (which is a list-or-tuple of lists-or-tuples-or ndarrays with different lengths or shapes) is deprecated. If you meant to do this, you must specify 'dtype=object' when creating the ndarray.\n",
            "  X = np.atleast_1d(X.T if isinstance(X, np.ndarray) else np.asarray(X))\n"
          ]
        },
        {
          "output_type": "execute_result",
          "data": {
            "text/plain": [
              "<matplotlib.axes._subplots.AxesSubplot at 0x7fc29d986fd0>"
            ]
          },
          "metadata": {},
          "execution_count": 14
        },
        {
          "output_type": "display_data",
          "data": {
            "text/plain": [
              "<Figure size 432x288 with 1 Axes>"
            ],
            "image/png": "[encoded data removed]"
          },
          "metadata": {
            "needs_background": "light"
          }
        }
      ]
    },
    {
      "cell_type": "code",
      "source": [
        "diabetes['BMI'].quantile([0,0.1,0.2,0.3,0.4,0.5,0.6,0.7,0.8,0.9,0.91,0.92,0.93,0.94,0.95,0.96,0.97,.98,0.99,1])\n",
        "# Percentile distribution looks fine"
      ],
      "metadata": {
        "colab": {
          "base_uri": "https://localhost:8080/"
        },
        "id": "GauC_XPy9--k",
        "outputId": "f7e5a50a-4490-473e-ea7b-2f01ea7aecf9"
      },
      "execution_count": 15,
      "outputs": [
        {
          "output_type": "execute_result",
          "data": {
            "text/plain": [
              "0.00     0.000\n",
              "0.10    23.600\n",
              "0.20    25.900\n",
              "0.30    28.200\n",
              "0.40    30.100\n",
              "0.50    32.000\n",
              "0.60    33.700\n",
              "0.70    35.490\n",
              "0.80    37.800\n",
              "0.90    41.500\n",
              "0.91    42.300\n",
              "0.92    42.764\n",
              "0.93    43.300\n",
              "0.94    43.500\n",
              "0.95    44.395\n",
              "0.96    45.332\n",
              "0.97    46.100\n",
              "0.98    47.526\n",
              "0.99    50.759\n",
              "1.00    67.100\n",
              "Name: BMI, dtype: float64"
            ]
          },
          "metadata": {},
          "execution_count": 15
        }
      ]
    },
    {
      "cell_type": "code",
      "source": [
        "diabetes.boxplot(by ='Outcome', column =['BMI'], grid = False)\n",
        "#No significant difference"
      ],
      "metadata": {
        "colab": {
          "base_uri": "https://localhost:8080/",
          "height": 373
        },
        "id": "NX08wSzT-E7c",
        "outputId": "2c35ffe1-3bd3-4326-ced6-5675dd0e083d"
      },
      "execution_count": 16,
      "outputs": [
        {
          "output_type": "stream",
          "name": "stderr",
          "text": [
            "/usr/local/lib/python3.7/dist-packages/matplotlib/cbook/__init__.py:1376: VisibleDeprecationWarning: Creating an ndarray from ragged nested sequences (which is a list-or-tuple of lists-or-tuples-or ndarrays with different lengths or shapes) is deprecated. If you meant to do this, you must specify 'dtype=object' when creating the ndarray.\n",
            "  X = np.atleast_1d(X.T if isinstance(X, np.ndarray) else np.asarray(X))\n"
          ]
        },
        {
          "output_type": "execute_result",
          "data": {
            "text/plain": [
              "<matplotlib.axes._subplots.AxesSubplot at 0x7fc29d90dfd0>"
            ]
          },
          "metadata": {},
          "execution_count": 16
        },
        {
          "output_type": "display_data",
          "data": {
            "text/plain": [
              "<Figure size 432x288 with 1 Axes>"
            ],
            "image/png": "[encoded data removed]"
          },
          "metadata": {
            "needs_background": "light"
          }
        }
      ]
    },
    {
      "cell_type": "code",
      "source": [
        "diabetes['DiabetesPedigreeFunction'].quantile([0,0.1,0.2,0.3,0.4,0.5,0.6,0.7,0.8,0.9,0.91,0.92,0.93,0.94,0.95,0.96,0.97,.98,0.99,1])"
      ],
      "metadata": {
        "colab": {
          "base_uri": "https://localhost:8080/"
        },
        "id": "MEyJjApt-J__",
        "outputId": "bfcaf1b7-3c9d-48ab-d62e-80442d238efd"
      },
      "execution_count": 17,
      "outputs": [
        {
          "output_type": "execute_result",
          "data": {
            "text/plain": [
              "0.00    0.07800\n",
              "0.10    0.16500\n",
              "0.20    0.21940\n",
              "0.30    0.25900\n",
              "0.40    0.30280\n",
              "0.50    0.37250\n",
              "0.60    0.45420\n",
              "0.70    0.56370\n",
              "0.80    0.68700\n",
              "0.90    0.87860\n",
              "0.91    0.90500\n",
              "0.92    0.94592\n",
              "0.93    0.96800\n",
              "0.94    1.05654\n",
              "0.95    1.13285\n",
              "0.96    1.18424\n",
              "0.97    1.25793\n",
              "0.98    1.39066\n",
              "0.99    1.69833\n",
              "1.00    2.42000\n",
              "Name: DiabetesPedigreeFunction, dtype: float64"
            ]
          },
          "metadata": {},
          "execution_count": 17
        }
      ]
    },
    {
      "cell_type": "code",
      "source": [
        "diabetes.boxplot(by ='Outcome', column =['DiabetesPedigreeFunction'], grid = False)\n",
        "#No significant difference"
      ],
      "metadata": {
        "colab": {
          "base_uri": "https://localhost:8080/",
          "height": 373
        },
        "id": "CmJy7wbh-QLt",
        "outputId": "6ce5bd60-3216-4f00-b536-350deef725ed"
      },
      "execution_count": 18,
      "outputs": [
        {
          "output_type": "stream",
          "name": "stderr",
          "text": [
            "/usr/local/lib/python3.7/dist-packages/matplotlib/cbook/__init__.py:1376: VisibleDeprecationWarning: Creating an ndarray from ragged nested sequences (which is a list-or-tuple of lists-or-tuples-or ndarrays with different lengths or shapes) is deprecated. If you meant to do this, you must specify 'dtype=object' when creating the ndarray.\n",
            "  X = np.atleast_1d(X.T if isinstance(X, np.ndarray) else np.asarray(X))\n"
          ]
        },
        {
          "output_type": "execute_result",
          "data": {
            "text/plain": [
              "<matplotlib.axes._subplots.AxesSubplot at 0x7fc29d81cd50>"
            ]
          },
          "metadata": {},
          "execution_count": 18
        },
        {
          "output_type": "display_data",
          "data": {
            "text/plain": [
              "<Figure size 432x288 with 1 Axes>"
            ],
            "image/png": "[encoded data removed]"
          },
          "metadata": {
            "needs_background": "light"
          }
        }
      ]
    },
    {
      "cell_type": "markdown",
      "source": [
        "# Model Building on Base Data"
      ],
      "metadata": {
        "id": "8at8Ttoy-Tm-"
      }
    },
    {
      "cell_type": "code",
      "source": [
        "from sklearn.linear_model import LogisticRegression\n",
        "logistic = LogisticRegression()"
      ],
      "metadata": {
        "id": "9eRmMdpu-X1o"
      },
      "execution_count": 19,
      "outputs": []
    },
    {
      "cell_type": "code",
      "source": [
        "logistic.fit(diabetes[['Pregnancies']+['Glucose']+['BloodPressure']+['SkinThickness']+['Insulin']+['BMI']+['DiabetesPedigreeFunction']+['Age']],diabetes[['Outcome']])"
      ],
      "metadata": {
        "colab": {
          "base_uri": "https://localhost:8080/"
        },
        "id": "VHhl4gIu-cf8",
        "outputId": "9ade59a2-262f-4d5f-d4c6-15e2528c7b18"
      },
      "execution_count": 20,
      "outputs": [
        {
          "output_type": "stream",
          "name": "stderr",
          "text": [
            "/usr/local/lib/python3.7/dist-packages/sklearn/utils/validation.py:993: DataConversionWarning: A column-vector y was passed when a 1d array was expected. Please change the shape of y to (n_samples, ), for example using ravel().\n",
            "  y = column_or_1d(y, warn=True)\n",
            "/usr/local/lib/python3.7/dist-packages/sklearn/linear_model/_logistic.py:818: ConvergenceWarning: lbfgs failed to converge (status=1):\n",
            "STOP: TOTAL NO. of ITERATIONS REACHED LIMIT.\n",
            "\n",
            "Increase the number of iterations (max_iter) or scale the data as shown in:\n",
            "    https://scikit-learn.org/stable/modules/preprocessing.html\n",
            "Please also refer to the documentation for alternative solver options:\n",
            "    https://scikit-learn.org/stable/modules/linear_model.html#logistic-regression\n",
            "  extra_warning_msg=_LOGISTIC_SOLVER_CONVERGENCE_MSG,\n"
          ]
        },
        {
          "output_type": "execute_result",
          "data": {
            "text/plain": [
              "LogisticRegression()"
            ]
          },
          "metadata": {},
          "execution_count": 20
        }
      ]
    },
    {
      "cell_type": "code",
      "source": [
        "print(\"Intercept\", logistic.intercept_)\n",
        "print(\"Coefficients\", logistic.coef_)"
      ],
      "metadata": {
        "colab": {
          "base_uri": "https://localhost:8080/"
        },
        "id": "-HYvaHkR-fZM",
        "outputId": "58abdf1e-6fad-49bd-fd74-c63468905156"
      },
      "execution_count": 21,
      "outputs": [
        {
          "output_type": "stream",
          "name": "stdout",
          "text": [
            "Intercept [-7.70292768]\n",
            "Coefficients [[ 1.17252350e-01  3.36000076e-02 -1.40873332e-02 -1.27042278e-03\n",
            "  -1.24033067e-03  7.72021578e-02  1.41904228e+00  1.00352115e-02]]\n"
          ]
        }
      ]
    },
    {
      "cell_type": "markdown",
      "source": [
        "#Confusion Matrix and Accuracy"
      ],
      "metadata": {
        "id": "O-AG86rT-x6d"
      }
    },
    {
      "cell_type": "code",
      "source": [
        "import numpy as np\n",
        "import matplotlib.pyplot as plt\n",
        "from sklearn.metrics import confusion_matrix"
      ],
      "metadata": {
        "id": "ybmYktXz-1u8"
      },
      "execution_count": 22,
      "outputs": []
    },
    {
      "cell_type": "code",
      "source": [
        "predict=logistic.predict(diabetes[['Pregnancies']+['Glucose']+['BloodPressure']+['SkinThickness']+['Insulin']+['BMI']+['DiabetesPedigreeFunction']+['Age']])\n",
        "predict\n",
        "\n",
        "cm = confusion_matrix(diabetes[['Outcome']],predict)\n",
        "print(cm)"
      ],
      "metadata": {
        "colab": {
          "base_uri": "https://localhost:8080/"
        },
        "id": "He8GDVla-7sD",
        "outputId": "386ab7ec-d14b-4eb2-b88f-c700b3a9d19c"
      },
      "execution_count": 23,
      "outputs": [
        {
          "output_type": "stream",
          "name": "stdout",
          "text": [
            "[[447  53]\n",
            " [114 154]]\n"
          ]
        }
      ]
    },
    {
      "cell_type": "code",
      "source": [
        "print(\"col sums\", sum(cm))\n",
        "total=sum(sum(cm))\n",
        "print(\"Total\", total)"
      ],
      "metadata": {
        "colab": {
          "base_uri": "https://localhost:8080/"
        },
        "id": "4KN0McNU--10",
        "outputId": "34242792-e549-45cb-cd02-d21c854a941a"
      },
      "execution_count": 24,
      "outputs": [
        {
          "output_type": "stream",
          "name": "stdout",
          "text": [
            "col sums [561 207]\n",
            "Total 768\n"
          ]
        }
      ]
    },
    {
      "cell_type": "code",
      "source": [
        "accuracy=(cm[0,0]+cm[1,1])/total\n",
        "accuracy"
      ],
      "metadata": {
        "colab": {
          "base_uri": "https://localhost:8080/"
        },
        "id": "ugNdOhvn_Au9",
        "outputId": "da41bc4a-fbae-4af6-8076-8ca43784e960"
      },
      "execution_count": 25,
      "outputs": [
        {
          "output_type": "execute_result",
          "data": {
            "text/plain": [
              "0.7825520833333334"
            ]
          },
          "metadata": {},
          "execution_count": 25
        }
      ]
    },
    {
      "cell_type": "code",
      "source": [
        "Sensitivity=(cm[0,0])/(cm[0,0]+cm[1,0])\n",
        "Sensitivity"
      ],
      "metadata": {
        "colab": {
          "base_uri": "https://localhost:8080/"
        },
        "id": "_12z3mZz_CiU",
        "outputId": "2e71ad8f-d986-42c4-d099-417c84820ab5"
      },
      "execution_count": 26,
      "outputs": [
        {
          "output_type": "execute_result",
          "data": {
            "text/plain": [
              "0.7967914438502673"
            ]
          },
          "metadata": {},
          "execution_count": 26
        }
      ]
    },
    {
      "cell_type": "code",
      "source": [
        "Specificity=(cm[1,1])/(cm[0,1]+cm[1,1])\n",
        "Specificity"
      ],
      "metadata": {
        "colab": {
          "base_uri": "https://localhost:8080/"
        },
        "id": "CwvwqUWL_Fl8",
        "outputId": "4c4a0043-96f2-4b98-89ab-ada0e532b7e8"
      },
      "execution_count": 27,
      "outputs": [
        {
          "output_type": "execute_result",
          "data": {
            "text/plain": [
              "0.7439613526570048"
            ]
          },
          "metadata": {},
          "execution_count": 27
        }
      ]
    },
    {
      "cell_type": "markdown",
      "source": [
        "#Multicollinearity"
      ],
      "metadata": {
        "id": "ehJPauWu_JEA"
      }
    },
    {
      "cell_type": "code",
      "source": [
        "import statsmodels.formula.api as sm\n",
        "\n",
        "def vif_cal(input_data, dependent_col):\n",
        "    x_vars=input_data.drop([dependent_col], axis=1)\n",
        "    xvar_names=x_vars.columns\n",
        "    for i in range(0,xvar_names.shape[0]):\n",
        "        y=x_vars[xvar_names[i]] \n",
        "        x=x_vars[xvar_names.drop(xvar_names[i])]\n",
        "        rsq=sm.ols(formula=\"y~x\", data=x_vars).fit().rsquared  \n",
        "        vif=round(1/(1-rsq),2)\n",
        "        print (xvar_names[i], \" VIF = \" , vif)"
      ],
      "metadata": {
        "colab": {
          "base_uri": "https://localhost:8080/"
        },
        "id": "x5jQEort_L8M",
        "outputId": "ec7c6940-aabd-4637-afa6-27bd4d0e2cc1"
      },
      "execution_count": 28,
      "outputs": [
        {
          "output_type": "stream",
          "name": "stderr",
          "text": [
            "/usr/local/lib/python3.7/dist-packages/statsmodels/tools/_testing.py:19: FutureWarning: pandas.util.testing is deprecated. Use the functions in the public API at pandas.testing instead.\n",
            "  import pandas.util.testing as tm\n"
          ]
        }
      ]
    },
    {
      "cell_type": "code",
      "source": [
        "vif_cal(input_data=diabetes, dependent_col=\"Outcome\")\n",
        "#No column with VIF value below 5"
      ],
      "metadata": {
        "colab": {
          "base_uri": "https://localhost:8080/"
        },
        "id": "Q3d1DXat_PHf",
        "outputId": "dac8b600-ed54-4ae9-e766-a55b72d75b2b"
      },
      "execution_count": 29,
      "outputs": [
        {
          "output_type": "stream",
          "name": "stdout",
          "text": [
            "Pregnancies  VIF =  1.43\n",
            "Glucose  VIF =  1.3\n",
            "BloodPressure  VIF =  1.18\n",
            "SkinThickness  VIF =  1.51\n",
            "Insulin  VIF =  1.43\n",
            "BMI  VIF =  1.3\n",
            "DiabetesPedigreeFunction  VIF =  1.07\n",
            "Age  VIF =  1.59\n"
          ]
        }
      ]
    },
    {
      "cell_type": "markdown",
      "source": [
        "#Individual Impact of Variables"
      ],
      "metadata": {
        "id": "eLNWb_Wi_R30"
      }
    },
    {
      "cell_type": "code",
      "source": [
        "import statsmodels.api as sm\n",
        "m1=sm.Logit(diabetes['Outcome'],diabetes[['Pregnancies']+['Glucose']+['BloodPressure']+['SkinThickness']+['Insulin']+['BMI']+['DiabetesPedigreeFunction']+['Age']])\n",
        "m1.fit()\n",
        "print(m1.fit().summary())"
      ],
      "metadata": {
        "colab": {
          "base_uri": "https://localhost:8080/"
        },
        "id": "yMq5OyIX_Rml",
        "outputId": "87bc345b-0e9c-4358-9542-1bcc06b6dfbf"
      },
      "execution_count": 30,
      "outputs": [
        {
          "output_type": "stream",
          "name": "stdout",
          "text": [
            "Optimization terminated successfully.\n",
            "         Current function value: 0.608498\n",
            "         Iterations 5\n",
            "Optimization terminated successfully.\n",
            "         Current function value: 0.608498\n",
            "         Iterations 5\n",
            "                           Logit Regression Results                           \n",
            "==============================================================================\n",
            "Dep. Variable:                Outcome   No. Observations:                  768\n",
            "Model:                          Logit   Df Residuals:                      760\n",
            "Method:                           MLE   Df Model:                            7\n",
            "Date:                Fri, 20 May 2022   Pseudo R-squ.:                 0.05922\n",
            "Time:                        10:22:28   Log-Likelihood:                -467.33\n",
            "converged:                       True   LL-Null:                       -496.74\n",
            "Covariance Type:            nonrobust   LLR p-value:                 2.583e-10\n",
            "============================================================================================\n",
            "                               coef    std err          z      P>|z|      [0.025      0.975]\n",
            "--------------------------------------------------------------------------------------------\n",
            "Pregnancies                  0.1284      0.029      4.484      0.000       0.072       0.185\n",
            "Glucose                      0.0129      0.003      4.757      0.000       0.008       0.018\n",
            "BloodPressure               -0.0303      0.005     -6.481      0.000      -0.039      -0.021\n",
            "SkinThickness                0.0002      0.006      0.032      0.974      -0.012       0.012\n",
            "Insulin                      0.0007      0.001      0.942      0.346      -0.001       0.002\n",
            "BMI                         -0.0048      0.011     -0.449      0.653      -0.026       0.016\n",
            "DiabetesPedigreeFunction     0.3203      0.240      1.335      0.182      -0.150       0.790\n",
            "Age                         -0.0156      0.008     -1.852      0.064      -0.032       0.001\n",
            "============================================================================================\n"
          ]
        }
      ]
    },
    {
      "cell_type": "code",
      "source": [
        "#Removing SkinThickness, Insulin, BMI,DiabetesPedigreeFunction and Age as they have p value more than 0.05\n",
        "m2=sm.Logit(diabetes['Outcome'],diabetes[['Pregnancies']+['Glucose']+['BloodPressure']])\n",
        "m2.fit()\n",
        "print(m2.fit().summary())"
      ],
      "metadata": {
        "colab": {
          "base_uri": "https://localhost:8080/"
        },
        "id": "VkbMOgU6_RZs",
        "outputId": "6d33ed08-8170-4b98-dabd-b893a33a4469"
      },
      "execution_count": 31,
      "outputs": [
        {
          "output_type": "stream",
          "name": "stdout",
          "text": [
            "Optimization terminated successfully.\n",
            "         Current function value: 0.613118\n",
            "         Iterations 5\n",
            "Optimization terminated successfully.\n",
            "         Current function value: 0.613118\n",
            "         Iterations 5\n",
            "                           Logit Regression Results                           \n",
            "==============================================================================\n",
            "Dep. Variable:                Outcome   No. Observations:                  768\n",
            "Model:                          Logit   Df Residuals:                      765\n",
            "Method:                           MLE   Df Model:                            2\n",
            "Date:                Fri, 20 May 2022   Pseudo R-squ.:                 0.05207\n",
            "Time:                        10:22:57   Log-Likelihood:                -470.87\n",
            "converged:                       True   LL-Null:                       -496.74\n",
            "Covariance Type:            nonrobust   LLR p-value:                 5.835e-12\n",
            "=================================================================================\n",
            "                    coef    std err          z      P>|z|      [0.025      0.975]\n",
            "---------------------------------------------------------------------------------\n",
            "Pregnancies       0.0951      0.024      3.996      0.000       0.048       0.142\n",
            "Glucose           0.0122      0.002      5.804      0.000       0.008       0.016\n",
            "BloodPressure    -0.0335      0.004     -8.692      0.000      -0.041      -0.026\n",
            "=================================================================================\n"
          ]
        }
      ]
    },
    {
      "cell_type": "markdown",
      "source": [
        "#Checking Final Accuracy"
      ],
      "metadata": {
        "id": "Hb4JmSUn_gL4"
      }
    },
    {
      "cell_type": "code",
      "source": [
        "from sklearn.linear_model import LogisticRegression\n",
        "logistic1 = LogisticRegression()"
      ],
      "metadata": {
        "id": "f5SWvjhw_jle"
      },
      "execution_count": 32,
      "outputs": []
    },
    {
      "cell_type": "code",
      "source": [
        "logistic1.fit(diabetes[['Pregnancies']+['Glucose']+['BloodPressure']],diabetes[['Outcome']])"
      ],
      "metadata": {
        "colab": {
          "base_uri": "https://localhost:8080/"
        },
        "id": "2Oy_rtp9_nxr",
        "outputId": "ac1cf727-96de-4596-92c3-b4a97a30d0c0"
      },
      "execution_count": 33,
      "outputs": [
        {
          "output_type": "stream",
          "name": "stderr",
          "text": [
            "/usr/local/lib/python3.7/dist-packages/sklearn/utils/validation.py:993: DataConversionWarning: A column-vector y was passed when a 1d array was expected. Please change the shape of y to (n_samples, ), for example using ravel().\n",
            "  y = column_or_1d(y, warn=True)\n"
          ]
        },
        {
          "output_type": "execute_result",
          "data": {
            "text/plain": [
              "LogisticRegression()"
            ]
          },
          "metadata": {},
          "execution_count": 33
        }
      ]
    },
    {
      "cell_type": "code",
      "source": [
        "print(\"Intercept\", logistic1.intercept_)\n",
        "print(\"Coefficients\", logistic1.coef_)"
      ],
      "metadata": {
        "colab": {
          "base_uri": "https://localhost:8080/"
        },
        "id": "glFOn_sO_qiF",
        "outputId": "19c8d53e-28aa-4f08-861a-7cc6327fb236"
      },
      "execution_count": 34,
      "outputs": [
        {
          "output_type": "stream",
          "name": "stdout",
          "text": [
            "Intercept [-5.52415278]\n",
            "Coefficients [[ 0.12620928  0.03751464 -0.00423269]]\n"
          ]
        }
      ]
    },
    {
      "cell_type": "code",
      "source": [
        "predict1=logistic1.predict(diabetes[['Pregnancies']+['Glucose']+['BloodPressure']])\n",
        "predict1\n",
        "\n",
        "cm1 = confusion_matrix(diabetes[['Outcome']],predict1)\n",
        "print(cm1)"
      ],
      "metadata": {
        "colab": {
          "base_uri": "https://localhost:8080/"
        },
        "id": "XBnGcBcSASB7",
        "outputId": "db420a65-2c61-44c3-bd92-1fd007d57708"
      },
      "execution_count": 35,
      "outputs": [
        {
          "output_type": "stream",
          "name": "stdout",
          "text": [
            "[[440  60]\n",
            " [132 136]]\n"
          ]
        }
      ]
    },
    {
      "cell_type": "code",
      "source": [
        "accuracy1=(cm1[0,0]+cm1[1,1])/total\n",
        "accuracy1"
      ],
      "metadata": {
        "colab": {
          "base_uri": "https://localhost:8080/"
        },
        "id": "hz_WImz9AVjS",
        "outputId": "3905d957-3916-4a07-d4e4-c28292ae5478"
      },
      "execution_count": 36,
      "outputs": [
        {
          "output_type": "execute_result",
          "data": {
            "text/plain": [
              "0.75"
            ]
          },
          "metadata": {},
          "execution_count": 36
        }
      ]
    },
    {
      "cell_type": "code",
      "source": [
        "Sensitivity1=(cm1[0,0])/(cm1[0,0]+cm1[1,0])\n",
        "Sensitivity1"
      ],
      "metadata": {
        "colab": {
          "base_uri": "https://localhost:8080/"
        },
        "id": "LrhnjleKAYwx",
        "outputId": "7d1dd8a1-84a3-4c71-e843-d6b26a1c68ea"
      },
      "execution_count": 37,
      "outputs": [
        {
          "output_type": "execute_result",
          "data": {
            "text/plain": [
              "0.7692307692307693"
            ]
          },
          "metadata": {},
          "execution_count": 37
        }
      ]
    },
    {
      "cell_type": "code",
      "source": [
        "Specificity1=(cm1[1,1])/(cm1[0,1]+cm1[1,1])\n",
        "Specificity1"
      ],
      "metadata": {
        "colab": {
          "base_uri": "https://localhost:8080/"
        },
        "id": "XGrWm6_7AcJT",
        "outputId": "f932f7f7-7740-4020-b19e-4b1a5fa6a111"
      },
      "execution_count": 38,
      "outputs": [
        {
          "output_type": "execute_result",
          "data": {
            "text/plain": [
              "0.6938775510204082"
            ]
          },
          "metadata": {},
          "execution_count": 38
        }
      ]
    },
    {
      "cell_type": "markdown",
      "source": [
        "#Decision Tree - To identify key parameters"
      ],
      "metadata": {
        "id": "tCryG8CpMFvE"
      }
    },
    {
      "cell_type": "code",
      "source": [
        "from sklearn import tree\n",
        "\n",
        "features= ['Pregnancies','Glucose','BloodPressure','SkinThickness','Insulin','BMI','DiabetesPedigreeFunction','Age']\n",
        "print(\"Features\",features)\n",
        "\n",
        "X = diabetes[features]\n",
        "print(\"X shape\", X.shape)\n",
        "y = diabetes['Outcome']\n",
        "print(\"Y shape\", y.shape)"
      ],
      "metadata": {
        "colab": {
          "base_uri": "https://localhost:8080/"
        },
        "id": "0mNQFxeIM8-B",
        "outputId": "06f50505-c935-4977-af63-abe7dc016186"
      },
      "execution_count": 54,
      "outputs": [
        {
          "output_type": "stream",
          "name": "stdout",
          "text": [
            "Features ['Pregnancies', 'Glucose', 'BloodPressure', 'SkinThickness', 'Insulin', 'BMI', 'DiabetesPedigreeFunction', 'Age']\n",
            "X shape (768, 8)\n",
            "Y shape (768,)\n"
          ]
        }
      ]
    },
    {
      "cell_type": "code",
      "source": [
        "#Building Tree Model\n",
        "DTree = tree.DecisionTreeClassifier(max_depth=2)\n",
        "DTree.fit(X,y)\n",
        "\n",
        "##Plotting the trees \n",
        "import matplotlib.pyplot as plt\n",
        "from sklearn.tree import plot_tree, export_text\n",
        "plt.figure(figsize=(15,7))\n",
        "plot_tree(DTree, filled=True, \n",
        "                     rounded=True,\n",
        "                     impurity=False,\n",
        "                     feature_names = features)\n",
        "print( export_text(DTree, feature_names = features))"
      ],
      "metadata": {
        "colab": {
          "base_uri": "https://localhost:8080/",
          "height": 602
        },
        "id": "a1091gvaNRcC",
        "outputId": "e3ed940f-1a11-4306-8086-2d84506d0453"
      },
      "execution_count": 55,
      "outputs": [
        {
          "output_type": "stream",
          "name": "stdout",
          "text": [
            "|--- Glucose <= 127.50\n",
            "|   |--- Age <= 28.50\n",
            "|   |   |--- class: 0\n",
            "|   |--- Age >  28.50\n",
            "|   |   |--- class: 0\n",
            "|--- Glucose >  127.50\n",
            "|   |--- BMI <= 29.95\n",
            "|   |   |--- class: 0\n",
            "|   |--- BMI >  29.95\n",
            "|   |   |--- class: 1\n",
            "\n"
          ]
        },
        {
          "output_type": "display_data",
          "data": {
            "text/plain": [
              "<Figure size 1080x504 with 1 Axes>"
            ],
            "image/png": "[encoded data removed]"
          },
          "metadata": {
            "needs_background": "light"
          }
        }
      ]
    },
    {
      "cell_type": "markdown",
      "source": [
        "# Feature Engineering"
      ],
      "metadata": {
        "id": "yUud2cTqAeck"
      }
    },
    {
      "cell_type": "code",
      "source": [
        "diabetes_v1=diabetes"
      ],
      "metadata": {
        "id": "iDmdJ9LXAjss"
      },
      "execution_count": 39,
      "outputs": []
    },
    {
      "cell_type": "code",
      "source": [
        "diabetes_v1['Glucose_seg']=np.where(diabetes['Glucose']<127.5,0,1)\n",
        "diabetes_v1['Age_seg']=np.where(diabetes['Age']<28.5,0,1)\n",
        "diabetes_v1['BMI_seg']=np.where(diabetes['BMI']<40,0,1)"
      ],
      "metadata": {
        "id": "a1WU9JS1Huns"
      },
      "execution_count": 40,
      "outputs": []
    },
    {
      "cell_type": "code",
      "source": [
        "diabetes_v1.head()"
      ],
      "metadata": {
        "colab": {
          "base_uri": "https://localhost:8080/",
          "height": 206
        },
        "id": "3eozcEylHw57",
        "outputId": "33c7fc6a-43d3-4183-b1cb-81077bd20a3a"
      },
      "execution_count": 41,
      "outputs": [
        {
          "output_type": "execute_result",
          "data": {
            "text/plain": [
              "   Pregnancies  Glucose  BloodPressure  SkinThickness  Insulin   BMI  \\\n",
              "0            6      148             72             35        0  33.6   \n",
              "1            1       85             66             29        0  26.6   \n",
              "2            8      183             64              0        0  23.3   \n",
              "3            1       89             66             23       94  28.1   \n",
              "4            0      137             40             35      168  43.1   \n",
              "\n",
              "   DiabetesPedigreeFunction  Age  Outcome  Glucose_seg  Age_seg  BMI_seg  \n",
              "0                     0.627   50        1            1        1        0  \n",
              "1                     0.351   31        0            0        1        0  \n",
              "2                     0.672   32        1            1        1        0  \n",
              "3                     0.167   21        0            0        0        0  \n",
              "4                     2.288   33        1            1        1        1  "
            ],
            "text/html": [
              "\n",
              "  <div id=\"df-62767c5e-97f6-448e-9fde-80a89b4d1a3f\">\n",
              "    <div class=\"colab-df-container\">\n",
              "      <div>\n",
              "<style scoped>\n",
              "    .dataframe tbody tr th:only-of-type {\n",
              "        vertical-align: middle;\n",
              "    }\n",
              "\n",
              "    .dataframe tbody tr th {\n",
              "        vertical-align: top;\n",
              "    }\n",
              "\n",
              "    .dataframe thead th {\n",
              "        text-align: right;\n",
              "    }\n",
              "</style>\n",
              "<table border=\"1\" class=\"dataframe\">\n",
              "  <thead>\n",
              "    <tr style=\"text-align: right;\">\n",
              "      <th></th>\n",
              "      <th>Pregnancies</th>\n",
              "      <th>Glucose</th>\n",
              "      <th>BloodPressure</th>\n",
              "      <th>SkinThickness</th>\n",
              "      <th>Insulin</th>\n",
              "      <th>BMI</th>\n",
              "      <th>DiabetesPedigreeFunction</th>\n",
              "      <th>Age</th>\n",
              "      <th>Outcome</th>\n",
              "      <th>Glucose_seg</th>\n",
              "      <th>Age_seg</th>\n",
              "      <th>BMI_seg</th>\n",
              "    </tr>\n",
              "  </thead>\n",
              "  <tbody>\n",
              "    <tr>\n",
              "      <th>0</th>\n",
              "      <td>6</td>\n",
              "      <td>148</td>\n",
              "      <td>72</td>\n",
              "      <td>35</td>\n",
              "      <td>0</td>\n",
              "      <td>33.6</td>\n",
              "      <td>0.627</td>\n",
              "      <td>50</td>\n",
              "      <td>1</td>\n",
              "      <td>1</td>\n",
              "      <td>1</td>\n",
              "      <td>0</td>\n",
              "    </tr>\n",
              "    <tr>\n",
              "      <th>1</th>\n",
              "      <td>1</td>\n",
              "      <td>85</td>\n",
              "      <td>66</td>\n",
              "      <td>29</td>\n",
              "      <td>0</td>\n",
              "      <td>26.6</td>\n",
              "      <td>0.351</td>\n",
              "      <td>31</td>\n",
              "      <td>0</td>\n",
              "      <td>0</td>\n",
              "      <td>1</td>\n",
              "      <td>0</td>\n",
              "    </tr>\n",
              "    <tr>\n",
              "      <th>2</th>\n",
              "      <td>8</td>\n",
              "      <td>183</td>\n",
              "      <td>64</td>\n",
              "      <td>0</td>\n",
              "      <td>0</td>\n",
              "      <td>23.3</td>\n",
              "      <td>0.672</td>\n",
              "      <td>32</td>\n",
              "      <td>1</td>\n",
              "      <td>1</td>\n",
              "      <td>1</td>\n",
              "      <td>0</td>\n",
              "    </tr>\n",
              "    <tr>\n",
              "      <th>3</th>\n",
              "      <td>1</td>\n",
              "      <td>89</td>\n",
              "      <td>66</td>\n",
              "      <td>23</td>\n",
              "      <td>94</td>\n",
              "      <td>28.1</td>\n",
              "      <td>0.167</td>\n",
              "      <td>21</td>\n",
              "      <td>0</td>\n",
              "      <td>0</td>\n",
              "      <td>0</td>\n",
              "      <td>0</td>\n",
              "    </tr>\n",
              "    <tr>\n",
              "      <th>4</th>\n",
              "      <td>0</td>\n",
              "      <td>137</td>\n",
              "      <td>40</td>\n",
              "      <td>35</td>\n",
              "      <td>168</td>\n",
              "      <td>43.1</td>\n",
              "      <td>2.288</td>\n",
              "      <td>33</td>\n",
              "      <td>1</td>\n",
              "      <td>1</td>\n",
              "      <td>1</td>\n",
              "      <td>1</td>\n",
              "    </tr>\n",
              "  </tbody>\n",
              "</table>\n",
              "</div>\n",
              "      <button class=\"colab-df-convert\" onclick=\"convertToInteractive('df-62767c5e-97f6-448e-9fde-80a89b4d1a3f')\"\n",
              "              title=\"Convert this dataframe to an interactive table.\"\n",
              "              style=\"display:none;\">\n",
              "        \n",
              "  <svg xmlns=\"http://www.w3.org/2000/svg\" height=\"24px\"viewBox=\"0 0 24 24\"\n",
              "       width=\"24px\">\n",
              "    <path d=\"M0 0h24v24H0V0z\" fill=\"none\"/>\n",
              "    <path d=\"M18.56 5.44l.94 2.06.94-2.06 2.06-.94-2.06-.94-.94-2.06-.94 2.06-2.06.94zm-11 1L8.5 8.5l.94-2.06 2.06-.94-2.06-.94L8.5 2.5l-.94 2.06-2.06.94zm10 10l.94 2.06.94-2.06 2.06-.94-2.06-.94-.94-2.06-.94 2.06-2.06.94z\"/><path d=\"M17.41 7.96l-1.37-1.37c-.4-.4-.92-.59-1.43-.59-.52 0-1.04.2-1.43.59L10.3 9.45l-7.72 7.72c-.78.78-.78 2.05 0 2.83L4 21.41c.39.39.9.59 1.41.59.51 0 1.02-.2 1.41-.59l7.78-7.78 2.81-2.81c.8-.78.8-2.07 0-2.86zM5.41 20L4 18.59l7.72-7.72 1.47 1.35L5.41 20z\"/>\n",
              "  </svg>\n",
              "      </button>\n",
              "      \n",
              "  <style>\n",
              "    .colab-df-container {\n",
              "      display:flex;\n",
              "      flex-wrap:wrap;\n",
              "      gap: 12px;\n",
              "    }\n",
              "\n",
              "    .colab-df-convert {\n",
              "      background-color: #E8F0FE;\n",
              "      border: none;\n",
              "      border-radius: 50%;\n",
              "      cursor: pointer;\n",
              "      display: none;\n",
              "      fill: #1967D2;\n",
              "      height: 32px;\n",
              "      padding: 0 0 0 0;\n",
              "      width: 32px;\n",
              "    }\n",
              "\n",
              "    .colab-df-convert:hover {\n",
              "      background-color: #E2EBFA;\n",
              "      box-shadow: 0px 1px 2px rgba(60, 64, 67, 0.3), 0px 1px 3px 1px rgba(60, 64, 67, 0.15);\n",
              "      fill: #174EA6;\n",
              "    }\n",
              "\n",
              "    [theme=dark] .colab-df-convert {\n",
              "      background-color: #3B4455;\n",
              "      fill: #D2E3FC;\n",
              "    }\n",
              "\n",
              "    [theme=dark] .colab-df-convert:hover {\n",
              "      background-color: #434B5C;\n",
              "      box-shadow: 0px 1px 3px 1px rgba(0, 0, 0, 0.15);\n",
              "      filter: drop-shadow(0px 1px 2px rgba(0, 0, 0, 0.3));\n",
              "      fill: #FFFFFF;\n",
              "    }\n",
              "  </style>\n",
              "\n",
              "      <script>\n",
              "        const buttonEl =\n",
              "          document.querySelector('#df-62767c5e-97f6-448e-9fde-80a89b4d1a3f button.colab-df-convert');\n",
              "        buttonEl.style.display =\n",
              "          google.colab.kernel.accessAllowed ? 'block' : 'none';\n",
              "\n",
              "        async function convertToInteractive(key) {\n",
              "          const element = document.querySelector('#df-62767c5e-97f6-448e-9fde-80a89b4d1a3f');\n",
              "          const dataTable =\n",
              "            await google.colab.kernel.invokeFunction('convertToInteractive',\n",
              "                                                     [key], {});\n",
              "          if (!dataTable) return;\n",
              "\n",
              "          const docLinkHtml = 'Like what you see? Visit the ' +\n",
              "            '<a target=\"_blank\" href=https://colab.research.google.com/notebooks/data_table.ipynb>data table notebook</a>'\n",
              "            + ' to learn more about interactive tables.';\n",
              "          element.innerHTML = '';\n",
              "          dataTable['output_type'] = 'display_data';\n",
              "          await google.colab.output.renderOutput(dataTable, element);\n",
              "          const docLink = document.createElement('div');\n",
              "          docLink.innerHTML = docLinkHtml;\n",
              "          element.appendChild(docLink);\n",
              "        }\n",
              "      </script>\n",
              "    </div>\n",
              "  </div>\n",
              "  "
            ]
          },
          "metadata": {},
          "execution_count": 41
        }
      ]
    },
    {
      "cell_type": "code",
      "source": [
        "diabetes_v2=diabetes_v1[['Pregnancies','BloodPressure','SkinThickness','Insulin','DiabetesPedigreeFunction','Outcome','Glucose_seg','Age_seg','BMI_seg']]"
      ],
      "metadata": {
        "id": "wyna9rpZH2fe"
      },
      "execution_count": 42,
      "outputs": []
    },
    {
      "cell_type": "code",
      "source": [
        "diabetes_v2.head()"
      ],
      "metadata": {
        "colab": {
          "base_uri": "https://localhost:8080/",
          "height": 206
        },
        "id": "mrIrCB6XH4TL",
        "outputId": "aaca1519-e82a-4178-957c-496f96c53543"
      },
      "execution_count": 43,
      "outputs": [
        {
          "output_type": "execute_result",
          "data": {
            "text/plain": [
              "   Pregnancies  BloodPressure  SkinThickness  Insulin  \\\n",
              "0            6             72             35        0   \n",
              "1            1             66             29        0   \n",
              "2            8             64              0        0   \n",
              "3            1             66             23       94   \n",
              "4            0             40             35      168   \n",
              "\n",
              "   DiabetesPedigreeFunction  Outcome  Glucose_seg  Age_seg  BMI_seg  \n",
              "0                     0.627        1            1        1        0  \n",
              "1                     0.351        0            0        1        0  \n",
              "2                     0.672        1            1        1        0  \n",
              "3                     0.167        0            0        0        0  \n",
              "4                     2.288        1            1        1        1  "
            ],
            "text/html": [
              "\n",
              "  <div id=\"df-02ebc623-a943-4486-8ac7-1b9930a1dbb7\">\n",
              "    <div class=\"colab-df-container\">\n",
              "      <div>\n",
              "<style scoped>\n",
              "    .dataframe tbody tr th:only-of-type {\n",
              "        vertical-align: middle;\n",
              "    }\n",
              "\n",
              "    .dataframe tbody tr th {\n",
              "        vertical-align: top;\n",
              "    }\n",
              "\n",
              "    .dataframe thead th {\n",
              "        text-align: right;\n",
              "    }\n",
              "</style>\n",
              "<table border=\"1\" class=\"dataframe\">\n",
              "  <thead>\n",
              "    <tr style=\"text-align: right;\">\n",
              "      <th></th>\n",
              "      <th>Pregnancies</th>\n",
              "      <th>BloodPressure</th>\n",
              "      <th>SkinThickness</th>\n",
              "      <th>Insulin</th>\n",
              "      <th>DiabetesPedigreeFunction</th>\n",
              "      <th>Outcome</th>\n",
              "      <th>Glucose_seg</th>\n",
              "      <th>Age_seg</th>\n",
              "      <th>BMI_seg</th>\n",
              "    </tr>\n",
              "  </thead>\n",
              "  <tbody>\n",
              "    <tr>\n",
              "      <th>0</th>\n",
              "      <td>6</td>\n",
              "      <td>72</td>\n",
              "      <td>35</td>\n",
              "      <td>0</td>\n",
              "      <td>0.627</td>\n",
              "      <td>1</td>\n",
              "      <td>1</td>\n",
              "      <td>1</td>\n",
              "      <td>0</td>\n",
              "    </tr>\n",
              "    <tr>\n",
              "      <th>1</th>\n",
              "      <td>1</td>\n",
              "      <td>66</td>\n",
              "      <td>29</td>\n",
              "      <td>0</td>\n",
              "      <td>0.351</td>\n",
              "      <td>0</td>\n",
              "      <td>0</td>\n",
              "      <td>1</td>\n",
              "      <td>0</td>\n",
              "    </tr>\n",
              "    <tr>\n",
              "      <th>2</th>\n",
              "      <td>8</td>\n",
              "      <td>64</td>\n",
              "      <td>0</td>\n",
              "      <td>0</td>\n",
              "      <td>0.672</td>\n",
              "      <td>1</td>\n",
              "      <td>1</td>\n",
              "      <td>1</td>\n",
              "      <td>0</td>\n",
              "    </tr>\n",
              "    <tr>\n",
              "      <th>3</th>\n",
              "      <td>1</td>\n",
              "      <td>66</td>\n",
              "      <td>23</td>\n",
              "      <td>94</td>\n",
              "      <td>0.167</td>\n",
              "      <td>0</td>\n",
              "      <td>0</td>\n",
              "      <td>0</td>\n",
              "      <td>0</td>\n",
              "    </tr>\n",
              "    <tr>\n",
              "      <th>4</th>\n",
              "      <td>0</td>\n",
              "      <td>40</td>\n",
              "      <td>35</td>\n",
              "      <td>168</td>\n",
              "      <td>2.288</td>\n",
              "      <td>1</td>\n",
              "      <td>1</td>\n",
              "      <td>1</td>\n",
              "      <td>1</td>\n",
              "    </tr>\n",
              "  </tbody>\n",
              "</table>\n",
              "</div>\n",
              "      <button class=\"colab-df-convert\" onclick=\"convertToInteractive('df-02ebc623-a943-4486-8ac7-1b9930a1dbb7')\"\n",
              "              title=\"Convert this dataframe to an interactive table.\"\n",
              "              style=\"display:none;\">\n",
              "        \n",
              "  <svg xmlns=\"http://www.w3.org/2000/svg\" height=\"24px\"viewBox=\"0 0 24 24\"\n",
              "       width=\"24px\">\n",
              "    <path d=\"M0 0h24v24H0V0z\" fill=\"none\"/>\n",
              "    <path d=\"M18.56 5.44l.94 2.06.94-2.06 2.06-.94-2.06-.94-.94-2.06-.94 2.06-2.06.94zm-11 1L8.5 8.5l.94-2.06 2.06-.94-2.06-.94L8.5 2.5l-.94 2.06-2.06.94zm10 10l.94 2.06.94-2.06 2.06-.94-2.06-.94-.94-2.06-.94 2.06-2.06.94z\"/><path d=\"M17.41 7.96l-1.37-1.37c-.4-.4-.92-.59-1.43-.59-.52 0-1.04.2-1.43.59L10.3 9.45l-7.72 7.72c-.78.78-.78 2.05 0 2.83L4 21.41c.39.39.9.59 1.41.59.51 0 1.02-.2 1.41-.59l7.78-7.78 2.81-2.81c.8-.78.8-2.07 0-2.86zM5.41 20L4 18.59l7.72-7.72 1.47 1.35L5.41 20z\"/>\n",
              "  </svg>\n",
              "      </button>\n",
              "      \n",
              "  <style>\n",
              "    .colab-df-container {\n",
              "      display:flex;\n",
              "      flex-wrap:wrap;\n",
              "      gap: 12px;\n",
              "    }\n",
              "\n",
              "    .colab-df-convert {\n",
              "      background-color: #E8F0FE;\n",
              "      border: none;\n",
              "      border-radius: 50%;\n",
              "      cursor: pointer;\n",
              "      display: none;\n",
              "      fill: #1967D2;\n",
              "      height: 32px;\n",
              "      padding: 0 0 0 0;\n",
              "      width: 32px;\n",
              "    }\n",
              "\n",
              "    .colab-df-convert:hover {\n",
              "      background-color: #E2EBFA;\n",
              "      box-shadow: 0px 1px 2px rgba(60, 64, 67, 0.3), 0px 1px 3px 1px rgba(60, 64, 67, 0.15);\n",
              "      fill: #174EA6;\n",
              "    }\n",
              "\n",
              "    [theme=dark] .colab-df-convert {\n",
              "      background-color: #3B4455;\n",
              "      fill: #D2E3FC;\n",
              "    }\n",
              "\n",
              "    [theme=dark] .colab-df-convert:hover {\n",
              "      background-color: #434B5C;\n",
              "      box-shadow: 0px 1px 3px 1px rgba(0, 0, 0, 0.15);\n",
              "      filter: drop-shadow(0px 1px 2px rgba(0, 0, 0, 0.3));\n",
              "      fill: #FFFFFF;\n",
              "    }\n",
              "  </style>\n",
              "\n",
              "      <script>\n",
              "        const buttonEl =\n",
              "          document.querySelector('#df-02ebc623-a943-4486-8ac7-1b9930a1dbb7 button.colab-df-convert');\n",
              "        buttonEl.style.display =\n",
              "          google.colab.kernel.accessAllowed ? 'block' : 'none';\n",
              "\n",
              "        async function convertToInteractive(key) {\n",
              "          const element = document.querySelector('#df-02ebc623-a943-4486-8ac7-1b9930a1dbb7');\n",
              "          const dataTable =\n",
              "            await google.colab.kernel.invokeFunction('convertToInteractive',\n",
              "                                                     [key], {});\n",
              "          if (!dataTable) return;\n",
              "\n",
              "          const docLinkHtml = 'Like what you see? Visit the ' +\n",
              "            '<a target=\"_blank\" href=https://colab.research.google.com/notebooks/data_table.ipynb>data table notebook</a>'\n",
              "            + ' to learn more about interactive tables.';\n",
              "          element.innerHTML = '';\n",
              "          dataTable['output_type'] = 'display_data';\n",
              "          await google.colab.output.renderOutput(dataTable, element);\n",
              "          const docLink = document.createElement('div');\n",
              "          docLink.innerHTML = docLinkHtml;\n",
              "          element.appendChild(docLink);\n",
              "        }\n",
              "      </script>\n",
              "    </div>\n",
              "  </div>\n",
              "  "
            ]
          },
          "metadata": {},
          "execution_count": 43
        }
      ]
    },
    {
      "cell_type": "code",
      "source": [
        "from sklearn.linear_model import LogisticRegression\n",
        "logistic3 = LogisticRegression()"
      ],
      "metadata": {
        "id": "deCadhehH_fL"
      },
      "execution_count": 44,
      "outputs": []
    },
    {
      "cell_type": "code",
      "source": [
        "diabetes_v3=diabetes_v2[['Pregnancies','BloodPressure','SkinThickness','Insulin','BMI_seg','DiabetesPedigreeFunction','Outcome']]"
      ],
      "metadata": {
        "id": "fHn92GDQICBO"
      },
      "execution_count": 45,
      "outputs": []
    },
    {
      "cell_type": "code",
      "source": [
        "logistic3.fit(diabetes_v3[['Pregnancies']+['BloodPressure']+['SkinThickness']+['Insulin']+['BMI_seg']+['DiabetesPedigreeFunction']],diabetes_v3[['Outcome']])"
      ],
      "metadata": {
        "colab": {
          "base_uri": "https://localhost:8080/"
        },
        "id": "EU7Ly3o1IGFU",
        "outputId": "8033b613-8991-42ab-fcdc-316654b9487c"
      },
      "execution_count": 46,
      "outputs": [
        {
          "output_type": "stream",
          "name": "stderr",
          "text": [
            "/usr/local/lib/python3.7/dist-packages/sklearn/utils/validation.py:993: DataConversionWarning: A column-vector y was passed when a 1d array was expected. Please change the shape of y to (n_samples, ), for example using ravel().\n",
            "  y = column_or_1d(y, warn=True)\n"
          ]
        },
        {
          "output_type": "execute_result",
          "data": {
            "text/plain": [
              "LogisticRegression()"
            ]
          },
          "metadata": {},
          "execution_count": 46
        }
      ]
    },
    {
      "cell_type": "code",
      "source": [
        "print(\"Intercept\", logistic3.intercept_)\n",
        "print(\"Coefficients\", logistic3.coef_)"
      ],
      "metadata": {
        "colab": {
          "base_uri": "https://localhost:8080/"
        },
        "id": "_7BxMATZIJA7",
        "outputId": "f79baab7-626f-4357-e8ab-da41f889fbc9"
      },
      "execution_count": 47,
      "outputs": [
        {
          "output_type": "stream",
          "name": "stdout",
          "text": [
            "Intercept [-1.99583323]\n",
            "Coefficients [[ 1.62455434e-01  6.48408189e-05 -1.30150694e-03  2.19570378e-03\n",
            "   9.68730593e-01  8.80030571e-01]]\n"
          ]
        }
      ]
    },
    {
      "cell_type": "code",
      "source": [
        "predict3=logistic3.predict(diabetes_v3[['Pregnancies']+['BloodPressure']+['SkinThickness']+['Insulin']+['BMI_seg']+['DiabetesPedigreeFunction']])\n",
        "predict3\n",
        "\n",
        "cm3 = confusion_matrix(diabetes_v3[['Outcome']],predict3)\n",
        "print(cm3)"
      ],
      "metadata": {
        "colab": {
          "base_uri": "https://localhost:8080/"
        },
        "id": "ExI3H_GTIMJ8",
        "outputId": "5425690d-c911-4f00-dd13-95ef67675bec"
      },
      "execution_count": 48,
      "outputs": [
        {
          "output_type": "stream",
          "name": "stdout",
          "text": [
            "[[449  51]\n",
            " [183  85]]\n"
          ]
        }
      ]
    },
    {
      "cell_type": "code",
      "source": [
        "accuracy3=(cm3[0,0]+cm3[1,1])/total\n",
        "accuracy3"
      ],
      "metadata": {
        "colab": {
          "base_uri": "https://localhost:8080/"
        },
        "id": "ViW8aRLCIlJy",
        "outputId": "e6fadded-481e-4cc6-e0b1-2699655c656f"
      },
      "execution_count": 50,
      "outputs": [
        {
          "output_type": "execute_result",
          "data": {
            "text/plain": [
              "0.6953125"
            ]
          },
          "metadata": {},
          "execution_count": 50
        }
      ]
    },
    {
      "cell_type": "code",
      "source": [
        "import statsmodels.formula.api as sm\n",
        "\n",
        "def vif_cal(input_data, dependent_col):\n",
        "    x_vars=input_data.drop([dependent_col], axis=1)\n",
        "    xvar_names=x_vars.columns\n",
        "    for i in range(0,xvar_names.shape[0]):\n",
        "        y=x_vars[xvar_names[i]] \n",
        "        x=x_vars[xvar_names.drop(xvar_names[i])]\n",
        "        rsq=sm.ols(formula=\"y~x\", data=x_vars).fit().rsquared  \n",
        "        vif=round(1/(1-rsq),2)\n",
        "        print (xvar_names[i], \" VIF = \" , vif)"
      ],
      "metadata": {
        "id": "SDcW4nDcI-j9"
      },
      "execution_count": 52,
      "outputs": []
    },
    {
      "cell_type": "code",
      "source": [
        "vif_cal(input_data=diabetes_v3, dependent_col=\"Outcome\")\n",
        "#No column with VIF value below 5"
      ],
      "metadata": {
        "colab": {
          "base_uri": "https://localhost:8080/"
        },
        "id": "SyS7GfguI36a",
        "outputId": "5f02c28a-9f18-4ac2-f779-f111aa6cbff8"
      },
      "execution_count": 53,
      "outputs": [
        {
          "output_type": "stream",
          "name": "stdout",
          "text": [
            "Pregnancies  VIF =  1.04\n",
            "BloodPressure  VIF =  1.08\n",
            "SkinThickness  VIF =  1.33\n",
            "Insulin  VIF =  1.26\n",
            "BMI_seg  VIF =  1.07\n",
            "DiabetesPedigreeFunction  VIF =  1.07\n"
          ]
        }
      ]
    },
    {
      "cell_type": "code",
      "source": [
        "import statsmodels.api as sm\n",
        "m3=sm.Logit(diabetes_v3['Outcome'],diabetes_v3[['Pregnancies']+['BloodPressure']+['SkinThickness']+['Insulin']+['BMI_seg']+['DiabetesPedigreeFunction']])\n",
        "m3.fit()\n",
        "print(m3.fit().summary())"
      ],
      "metadata": {
        "colab": {
          "base_uri": "https://localhost:8080/"
        },
        "id": "bat_ECFbJCgz",
        "outputId": "05fa4eaf-b512-4218-957c-3711bdad0deb"
      },
      "execution_count": 56,
      "outputs": [
        {
          "output_type": "stream",
          "name": "stdout",
          "text": [
            "Optimization terminated successfully.\n",
            "         Current function value: 0.613110\n",
            "         Iterations 5\n",
            "Optimization terminated successfully.\n",
            "         Current function value: 0.613110\n",
            "         Iterations 5\n",
            "                           Logit Regression Results                           \n",
            "==============================================================================\n",
            "Dep. Variable:                Outcome   No. Observations:                  768\n",
            "Model:                          Logit   Df Residuals:                      762\n",
            "Method:                           MLE   Df Model:                            5\n",
            "Date:                Fri, 20 May 2022   Pseudo R-squ.:                 0.05209\n",
            "Time:                        11:37:13   Log-Likelihood:                -470.87\n",
            "converged:                       True   LL-Null:                       -496.74\n",
            "Covariance Type:            nonrobust   LLR p-value:                 6.078e-10\n",
            "============================================================================================\n",
            "                               coef    std err          z      P>|z|      [0.025      0.975]\n",
            "--------------------------------------------------------------------------------------------\n",
            "Pregnancies                  0.1330      0.024      5.536      0.000       0.086       0.180\n",
            "BloodPressure               -0.0211      0.003     -7.896      0.000      -0.026      -0.016\n",
            "SkinThickness               -0.0049      0.006     -0.854      0.393      -0.016       0.006\n",
            "Insulin                      0.0021      0.001      2.735      0.006       0.001       0.004\n",
            "BMI_seg                      1.0749      0.239      4.489      0.000       0.606       1.544\n",
            "DiabetesPedigreeFunction     0.4322      0.229      1.888      0.059      -0.016       0.881\n",
            "============================================================================================\n"
          ]
        }
      ]
    },
    {
      "cell_type": "code",
      "source": [
        "import statsmodels.api as sm\n",
        "m4=sm.Logit(diabetes_v3['Outcome'],diabetes_v3[['Pregnancies']+['BloodPressure']+['Insulin']+['BMI_seg']])\n",
        "m4.fit()\n",
        "print(m4.fit().summary())"
      ],
      "metadata": {
        "colab": {
          "base_uri": "https://localhost:8080/"
        },
        "id": "tV0tGhFAQiBk",
        "outputId": "fb8196b8-fb29-415b-ad16-40fabb414af3"
      },
      "execution_count": 57,
      "outputs": [
        {
          "output_type": "stream",
          "name": "stdout",
          "text": [
            "Optimization terminated successfully.\n",
            "         Current function value: 0.615687\n",
            "         Iterations 5\n",
            "Optimization terminated successfully.\n",
            "         Current function value: 0.615687\n",
            "         Iterations 5\n",
            "                           Logit Regression Results                           \n",
            "==============================================================================\n",
            "Dep. Variable:                Outcome   No. Observations:                  768\n",
            "Model:                          Logit   Df Residuals:                      764\n",
            "Method:                           MLE   Df Model:                            3\n",
            "Date:                Fri, 20 May 2022   Pseudo R-squ.:                 0.04810\n",
            "Time:                        11:38:08   Log-Likelihood:                -472.85\n",
            "converged:                       True   LL-Null:                       -496.74\n",
            "Covariance Type:            nonrobust   LLR p-value:                 2.361e-10\n",
            "=================================================================================\n",
            "                    coef    std err          z      P>|z|      [0.025      0.975]\n",
            "---------------------------------------------------------------------------------\n",
            "Pregnancies       0.1351      0.024      5.648      0.000       0.088       0.182\n",
            "BloodPressure    -0.0199      0.002     -9.585      0.000      -0.024      -0.016\n",
            "Insulin           0.0020      0.001      3.007      0.003       0.001       0.003\n",
            "BMI_seg           1.1032      0.234      4.708      0.000       0.644       1.562\n",
            "=================================================================================\n"
          ]
        }
      ]
    },
    {
      "cell_type": "code",
      "source": [
        "#Building final logistic model on these 4 variables"
      ],
      "metadata": {
        "id": "lRY_XZUWQxjK"
      },
      "execution_count": 58,
      "outputs": []
    },
    {
      "cell_type": "code",
      "source": [
        "from sklearn.linear_model import LogisticRegression\n",
        "logistic5 = LogisticRegression()"
      ],
      "metadata": {
        "id": "NLAqJwHEQw2x"
      },
      "execution_count": 59,
      "outputs": []
    },
    {
      "cell_type": "code",
      "source": [
        "logistic5.fit(diabetes_v3[['Pregnancies']+['BloodPressure']+['Insulin']+['BMI_seg']],diabetes_v3[['Outcome']])"
      ],
      "metadata": {
        "colab": {
          "base_uri": "https://localhost:8080/"
        },
        "id": "GJRYR2H1RLwJ",
        "outputId": "e2a48b62-d71a-404f-d308-bb441044a0da"
      },
      "execution_count": 60,
      "outputs": [
        {
          "output_type": "stream",
          "name": "stderr",
          "text": [
            "/usr/local/lib/python3.7/dist-packages/sklearn/utils/validation.py:993: DataConversionWarning: A column-vector y was passed when a 1d array was expected. Please change the shape of y to (n_samples, ), for example using ravel().\n",
            "  y = column_or_1d(y, warn=True)\n"
          ]
        },
        {
          "output_type": "execute_result",
          "data": {
            "text/plain": [
              "LogisticRegression()"
            ]
          },
          "metadata": {},
          "execution_count": 60
        }
      ]
    },
    {
      "cell_type": "code",
      "source": [
        "print(\"Intercept\", logistic5.intercept_)\n",
        "print(\"Coefficients\", logistic5.coef_)"
      ],
      "metadata": {
        "colab": {
          "base_uri": "https://localhost:8080/"
        },
        "id": "J5UqC3ENRdcs",
        "outputId": "ad6f9df3-2409-4da3-f4f4-2e409baf1b3c"
      },
      "execution_count": 62,
      "outputs": [
        {
          "output_type": "stream",
          "name": "stdout",
          "text": [
            "Intercept [-1.62875776]\n",
            "Coefficients [[1.58971849e-01 1.84348942e-04 2.46588488e-03 1.07154726e+00]]\n"
          ]
        }
      ]
    },
    {
      "cell_type": "code",
      "source": [
        "predict5=logistic5.predict(diabetes_v3[['Pregnancies']+['BloodPressure']+['Insulin']+['BMI_seg']])\n",
        "predict5\n",
        "\n",
        "cm5 = confusion_matrix(diabetes_v3[['Outcome']],predict5)\n",
        "print(cm5)"
      ],
      "metadata": {
        "colab": {
          "base_uri": "https://localhost:8080/"
        },
        "id": "xviDjjZzRjVy",
        "outputId": "5a4dea95-3d30-4e2e-ea49-c4d9c153d990"
      },
      "execution_count": 63,
      "outputs": [
        {
          "output_type": "stream",
          "name": "stdout",
          "text": [
            "[[456  44]\n",
            " [192  76]]\n"
          ]
        }
      ]
    },
    {
      "cell_type": "code",
      "source": [
        "print(\"col sums\", sum(cm5))\n",
        "total=sum(sum(cm5))\n",
        "print(\"Total\", total)"
      ],
      "metadata": {
        "colab": {
          "base_uri": "https://localhost:8080/"
        },
        "id": "grd7rwd0R17V",
        "outputId": "f6938846-a3d0-44f2-9eb9-2d7a5dbe28a6"
      },
      "execution_count": 64,
      "outputs": [
        {
          "output_type": "stream",
          "name": "stdout",
          "text": [
            "col sums [648 120]\n",
            "Total 768\n"
          ]
        }
      ]
    },
    {
      "cell_type": "code",
      "source": [
        "accuracy5=(cm5[0,0]+cm5[1,1])/total\n",
        "accuracy5"
      ],
      "metadata": {
        "colab": {
          "base_uri": "https://localhost:8080/"
        },
        "id": "SdDuCga3R78q",
        "outputId": "d3b4916d-6d3f-4c98-deec-34301d3453fa"
      },
      "execution_count": 65,
      "outputs": [
        {
          "output_type": "execute_result",
          "data": {
            "text/plain": [
              "0.6927083333333334"
            ]
          },
          "metadata": {},
          "execution_count": 65
        }
      ]
    },
    {
      "cell_type": "code",
      "source": [
        "Feature Engineering was done on three variables - Glucose, Age, BMI\n",
        "Model built only with BMI_seg and the accuracy has gone down by 6 percentage points. \n",
        "We will now add one more feature engineering variable"
      ],
      "metadata": {
        "id": "_-mykqdmL_Q5"
      },
      "execution_count": null,
      "outputs": []
    },
    {
      "cell_type": "code",
      "source": [
        "diabetes_v6=diabetes_v2[['Pregnancies','BloodPressure','SkinThickness','Insulin','BMI_seg','DiabetesPedigreeFunction','Outcome']]"
      ],
      "metadata": {
        "id": "LpEt5vNkTEf4"
      },
      "execution_count": null,
      "outputs": []
    }
  ]
}